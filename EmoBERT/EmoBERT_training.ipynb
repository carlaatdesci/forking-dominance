{
  "nbformat": 4,
  "nbformat_minor": 0,
  "metadata": {
    "colab": {
      "name": "EmoBERT_training.ipynb",
      "provenance": [],
      "collapsed_sections": [
        "GVoTbr0RuVF7",
        "Wj-T0F2rlTOg",
        "HyY_gR2WLk50",
        "bbF9jt5Br437",
        "R5iFZL3FFgZq"
      ],
      "authorship_tag": "ABX9TyPrmYVxxU7SlCPEUB52Cbaq",
      "include_colab_link": true
    },
    "kernelspec": {
      "name": "python3",
      "display_name": "Python 3"
    },
    "language_info": {
      "name": "python"
    },
    "accelerator": "GPU"
  },
  "cells": [
    {
      "cell_type": "markdown",
      "metadata": {
        "id": "view-in-github",
        "colab_type": "text"
      },
      "source": [
        "<a href=\"https://colab.research.google.com/github/carlaost/fundingdominance/blob/main/EmoBERT/EmoBERT_training.ipynb\" target=\"_parent\"><img src=\"https://colab.research.google.com/assets/colab-badge.svg\" alt=\"Open In Colab\"/></a>"
      ]
    },
    {
      "cell_type": "markdown",
      "source": [
        "###setup"
      ],
      "metadata": {
        "id": "GVoTbr0RuVF7"
      }
    },
    {
      "cell_type": "code",
      "source": [
        "!pip install transformers &> /dev/null\n",
        "!pip install datasets &> /dev/null\n",
        "!pip install huggingface_hub &> /dev/null\n",
        "!pip install tensorflow &> /dev/null\n",
        "!pip install tensorflow_hub &> /dev/null\n",
        "!pip install tensorflow_text &> /dev/null\n",
        "!pip install keras-tuner -q &> /dev/null"
      ],
      "metadata": {
        "id": "P3A5CvzIDmGg"
      },
      "execution_count": 1,
      "outputs": []
    },
    {
      "cell_type": "code",
      "source": [
        "import pandas as pd\n",
        "import tensorflow_hub as hub\n",
        "import tensorflow as tf\n",
        "import tensorflow_text as text\n",
        "import datetime, os\n",
        "import kerastuner as kt"
      ],
      "metadata": {
        "id": "R0HeXyA4qFrq",
        "colab": {
          "base_uri": "https://localhost:8080/"
        },
        "outputId": "b1957297-f4d9-4a19-92cc-b87804b02d01"
      },
      "execution_count": 2,
      "outputs": [
        {
          "output_type": "stream",
          "name": "stderr",
          "text": [
            "/usr/local/lib/python3.7/dist-packages/ipykernel_launcher.py:6: DeprecationWarning: `import kerastuner` is deprecated, please use `import keras_tuner`.\n",
            "  \n"
          ]
        }
      ]
    },
    {
      "cell_type": "code",
      "source": [
        "import keras"
      ],
      "metadata": {
        "id": "C6AJWIW-PYCZ"
      },
      "execution_count": 13,
      "outputs": []
    },
    {
      "cell_type": "code",
      "source": [
        "import json"
      ],
      "metadata": {
        "id": "BYkPMtfAPsGw"
      },
      "execution_count": 18,
      "outputs": []
    },
    {
      "cell_type": "markdown",
      "source": [
        "### Loading & Processing the Training Data"
      ],
      "metadata": {
        "id": "Wj-T0F2rlTOg"
      }
    },
    {
      "cell_type": "code",
      "source": [
        "test = pd.read_csv('https://raw.githubusercontent.com/carlaost/fundingdominance/main/EmoBERT_training/emobank_w_test.csv')\n",
        "train_full = pd.read_csv('https://raw.githubusercontent.com/carlaost/fundingdominance/main/EmoBERT_training/emobank_w_train_full.csv')\n",
        "train = pd.read_csv('https://raw.githubusercontent.com/carlaost/fundingdominance/main/EmoBERT_training/emobank_w_train.csv')\n",
        "val = pd.read_csv('https://raw.githubusercontent.com/carlaost/fundingdominance/main/EmoBERT_training/emobank_w_val.csv')"
      ],
      "metadata": {
        "id": "7JjOdFQzARmR"
      },
      "execution_count": null,
      "outputs": []
    },
    {
      "cell_type": "code",
      "source": [
        "def x_y(data):\n",
        "\n",
        "  x = data['text']\n",
        "  v = data['V']\n",
        "  a = data['A']\n",
        "  d = data['D']\n",
        "  y = {'V': v,\n",
        "       'A': a,\n",
        "       'D': d}\n",
        "  return x, y"
      ],
      "metadata": {
        "id": "PiTUKejvsSPa"
      },
      "execution_count": null,
      "outputs": []
    },
    {
      "cell_type": "code",
      "source": [
        "train_x, train_y = x_y(train)\n",
        "val_x, val_y = x_y(val)\n",
        "test_x, test_y = x_y(test)"
      ],
      "metadata": {
        "id": "l7zqxNczspoi"
      },
      "execution_count": null,
      "outputs": []
    },
    {
      "cell_type": "markdown",
      "source": [
        "###model training"
      ],
      "metadata": {
        "id": "R5KjZcUnm_Qm"
      }
    },
    {
      "cell_type": "code",
      "source": [
        "def create_model():\n",
        "  preprocessor = hub.KerasLayer('https://tfhub.dev/tensorflow/bert_en_cased_preprocess/3')\n",
        "  bert = hub.KerasLayer('https://tfhub.dev/tensorflow/bert_en_cased_L-12_H-768_A-12/4', trainable=False)\n",
        "  \n",
        "  text_input = tf.keras.layers.Input(shape=(), dtype=tf.string)\n",
        "  bert_inputs = preprocessor(text_input)\n",
        "  bert_outputs = bert(bert_inputs)\n",
        "  cls_embedding = bert_outputs['pooled_output']\n",
        "\n",
        "  inter1 = tf.keras.layers.Dense(64, name='inter1')(cls_embedding)\n",
        "  inter2 = tf.keras.layers.Dense(64, name='inter2')(inter1)\n",
        "\n",
        "  output1 = tf.keras.layers.Dense(1, name='V')(inter2)\n",
        "  output2 = tf.keras.layers.Dense(1, name='A')(inter2)\n",
        "  output3 = tf.keras.layers.Dense(1, name='D')(inter2)\n",
        "\n",
        "  model = tf.keras.Model(\n",
        "    inputs=text_input, \n",
        "    outputs=[output1, output2, output3])\n",
        "  \n",
        "  optimizer='rmsprop'\n",
        "  loss={'V':'mse', 'A':'mse', 'D':'mse'}\n",
        "  metrics={'V':'mae', 'A':'mae', 'D':'mae'}\n",
        "\n",
        "  model.compile(optimizer=optimizer,loss=loss,metrics=metrics)\n",
        "  \n",
        "  return model"
      ],
      "metadata": {
        "id": "I4RvmnIsnBRk"
      },
      "execution_count": 3,
      "outputs": []
    },
    {
      "cell_type": "code",
      "source": [
        "model = create_model()\n",
        "#model.summary()"
      ],
      "metadata": {
        "id": "mfkz31UCnl6-"
      },
      "execution_count": null,
      "outputs": []
    },
    {
      "cell_type": "code",
      "source": [
        "def train_model(filepath):\n",
        "  model = create_model()\n",
        "  \n",
        "  logdir = os.path.join(filepath, datetime.datetime.now().strftime(\"%Y%m%d-%H%M%S\"))\n",
        "  checkpoint = os.path.join(filepath, 'checkpoint')\n",
        "  \n",
        "  callbacks = [tf.keras.callbacks.TensorBoard(logdir, histogram_freq=1),\n",
        "               tf.keras.callbacks.EarlyStopping(monitor='val_loss', mode='min', patience=10),\n",
        "               tf.keras.callbacks.ModelCheckpoint(filepath=checkpoint,\n",
        "                                                  monitor='val_loss',\n",
        "                                                  save_best_only=True,\n",
        "                                                  mode=min)]\n",
        "\n",
        "  model.fit(x=train_x, y=train_y,\n",
        "          batch_size=256,\n",
        "          epochs=100,\n",
        "          validation_data = (val_x, val_y), \n",
        "          callbacks=callbacks)"
      ],
      "metadata": {
        "id": "qr-arKAhnaR6"
      },
      "execution_count": null,
      "outputs": []
    },
    {
      "cell_type": "code",
      "source": [
        "filepath = xxx # specify where to save model training logs"
      ],
      "metadata": {
        "id": "LYG0d94unfMX"
      },
      "execution_count": null,
      "outputs": []
    },
    {
      "cell_type": "code",
      "source": [
        "train_model(filepath)"
      ],
      "metadata": {
        "id": "Qk-BCxStprVj"
      },
      "execution_count": null,
      "outputs": []
    },
    {
      "cell_type": "code",
      "source": [
        "model.save(xxx) # save model architecture and weights"
      ],
      "metadata": {
        "id": "5RvH7kSZvR5o"
      },
      "execution_count": null,
      "outputs": []
    },
    {
      "cell_type": "code",
      "source": [
        "%load_ext tensorboard\n",
        "%tensorboard --logdir /content/drive/MyDrive/funding-dominance/emotion-analysis/model/emobert-large-64"
      ],
      "metadata": {
        "id": "-GbnLVSCpvfY"
      },
      "execution_count": null,
      "outputs": []
    },
    {
      "cell_type": "markdown",
      "source": [
        "###testing model"
      ],
      "metadata": {
        "id": "-GYY1ys4qHdx"
      }
    },
    {
      "cell_type": "code",
      "source": [
        "model.evaluate(x=test_x, y=test_y)"
      ],
      "metadata": {
        "id": "4DEysa7gqGTJ"
      },
      "execution_count": null,
      "outputs": []
    }
  ]
}