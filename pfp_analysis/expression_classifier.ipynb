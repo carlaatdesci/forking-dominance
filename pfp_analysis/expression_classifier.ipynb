{
  "nbformat": 4,
  "nbformat_minor": 0,
  "metadata": {
    "colab": {
      "name": "Kopie von smile_analysis_works.ipynb",
      "provenance": [],
      "collapsed_sections": [],
      "authorship_tag": "ABX9TyO2xUVP+w3DC9NnuAofPuIj",
      "include_colab_link": true
    },
    "kernelspec": {
      "name": "python3",
      "display_name": "Python 3"
    },
    "language_info": {
      "name": "python"
    }
  },
  "cells": [
    {
      "cell_type": "markdown",
      "metadata": {
        "id": "view-in-github",
        "colab_type": "text"
      },
      "source": [
        "<a href=\"https://colab.research.google.com/github/carlaost/fundingdominance/blob/main/pfp_analysis/expression_classifier.ipynb\" target=\"_parent\"><img src=\"https://colab.research.google.com/assets/colab-badge.svg\" alt=\"Open In Colab\"/></a>"
      ]
    },
    {
      "cell_type": "code",
      "execution_count": null,
      "metadata": {
        "id": "-i9KFuL_iuap"
      },
      "outputs": [],
      "source": [
        "import pandas as pd\n",
        "import os.path"
      ]
    },
    {
      "cell_type": "markdown",
      "source": [
        "These dataframes represent the relative frequency with which each AU has been associated with the respective smile type, based on [Rychlowska et al. (2017) supplementary material](https://journals.sagepub.com/doi/suppl/10.1177/0956797617706082)"
      ],
      "metadata": {
        "id": "m_xr0pyoRr52"
      }
    },
    {
      "cell_type": "code",
      "source": [
        "df_rew_w = pd.DataFrame({\n",
        "    'AU01_c': .65,'AU02_c': .40,'AU04_c': .02,'AU05_c': .21,'AU06_c': .0,'AU07_c': .05,'AU09_c': .02,\n",
        "    'AU10_c': .07,'AU12_c': .95,'AU14_c': .7,'AU15_c': .0,'AU17_c': .05,'AU20_c': .02,'AU23_c': .12,\n",
        "}, index=[0])\n",
        "\n",
        "df_aff_w = pd.DataFrame({\n",
        "    'AU01_c': .16,'AU02_c': .23,'AU04_c': .14,'AU05_c': .02,'AU06_c': .02,'AU07_c': .0,'AU09_c': .0,\n",
        "    'AU10_c': .0,'AU12_c': .51,'AU14_c': .42,'AU15_c': .16,'AU17_c': .09,'AU20_c': .09,'AU23_c': .23,\n",
        "}, index=[0])\n",
        "\n",
        "df_dom_w = pd.DataFrame({\n",
        "    'AU01_c': .12,'AU02_c': .14,'AU04_c': .19,'AU05_c': .40,'AU06_c': .63,'AU07_c': .28,'AU09_c': .63,\n",
        "    'AU10_c': .53,'AU12_c': .0,'AU14_c': .05,'AU15_c': .0,'AU17_c': .09,'AU20_c': .21,'AU23_c': .02,\n",
        "}, index=[0])"
      ],
      "metadata": {
        "id": "sqy7rvqgVNTv"
      },
      "execution_count": null,
      "outputs": []
    },
    {
      "cell_type": "markdown",
      "source": [
        "# Facial Expression Analysis"
      ],
      "metadata": {
        "id": "FswH1SFoSR8d"
      }
    },
    {
      "cell_type": "code",
      "source": [
        "base = pd.read_csv('https://raw.githubusercontent.com/carlaost/fundingdominance/main/data/processed/twitter_info_meta.csv')\n",
        "base['smile_w'] = ''\n",
        "base['smile_rew_w'] = ''\n",
        "base['smile_aff_w'] = ''\n",
        "base['smile_dom_w'] = ''\n",
        "base['smile_type_w'] = ''"
      ],
      "metadata": {
        "id": "ArI0xVaVj4eb"
      },
      "execution_count": null,
      "outputs": []
    },
    {
      "cell_type": "code",
      "source": [
        "users = []\n",
        "for row in range(base.shape[0]):\n",
        "  if base['tweets_period'][row] == 'ok' or base['tweets_period'][row] == 'hyperactive':\n",
        "    users.append(base['usernames'][row])"
      ],
      "metadata": {
        "id": "so9NHEBwkjEy"
      },
      "execution_count": null,
      "outputs": []
    },
    {
      "cell_type": "code",
      "source": [
        "def load_df(name):\n",
        "  filename = 'https://raw.githubusercontent.com/carlaost/fundingdominance/main/data/processed/profile_pic_features/{}.csv'.format(name)\n",
        "  if os.path.exists(filename):\n",
        "    load = pd.read_csv(filename)\n",
        "    df_img = load.iloc[:,[693,694,695,696,697,698,699,700,701,702,703,704,705,706]].copy()\n",
        "    df_img.astype('float64').dtypes\n",
        "    return df_img"
      ],
      "metadata": {
        "id": "TSbFKTewjkdC"
      },
      "execution_count": null,
      "outputs": []
    },
    {
      "cell_type": "code",
      "source": [
        "def check_pattern_w(df_img, df_rew_dist, df_aff_dist, df_dom_dist):\n",
        "  rew = 0\n",
        "  aff = 0\n",
        "  dom = 0\n",
        "  smile = 0\n",
        "  if df_img.iloc[0,8] == 1.0:\n",
        "    smile = 1\n",
        "\n",
        "  for i in range(len(df_img.columns)):\n",
        "    if df_img.iloc[0,i] == 1.0:\n",
        "      rew += df_img.iloc[0,i] * df_rew_dist.iloc[0,i]\n",
        "      aff += df_img.iloc[0,i] * df_aff_dist.iloc[0,i]\n",
        "      dom += df_img.iloc[0,i] * df_dom_dist.iloc[0,i]\n",
        "      \n",
        "    else:\n",
        "      if df_img.iloc[0,i] == df_rew_dist.iloc[0,i]:\n",
        "        rew += 1\n",
        "      if df_img.iloc[0,i] == df_aff_dist.iloc[0,i]:\n",
        "        aff += 1\n",
        "      if df_img.iloc[0,i] == df_dom_dist.iloc[0,i]:\n",
        "        dom += 1\n",
        "    \n",
        "  if rew > aff and rew > dom:\n",
        "    smile_type = 'rewarding'\n",
        "  elif aff > rew and aff > dom:\n",
        "    smile_type = 'affiliative'\n",
        "  elif dom > rew and dom > aff:\n",
        "    smile_type = 'dominant'\n",
        "  else:\n",
        "    smile_type = 'unclear'\n",
        "\n",
        "  return smile, rew, aff, dom, smile_type"
      ],
      "metadata": {
        "id": "sgHCysntdGJs"
      },
      "execution_count": null,
      "outputs": []
    },
    {
      "cell_type": "code",
      "source": [
        "def get_index(name, base):\n",
        "  index = base.index[base['usernames']==name]\n",
        "  index = int(index[0])\n",
        "  return index"
      ],
      "metadata": {
        "id": "-Ol_s13ml22Q"
      },
      "execution_count": null,
      "outputs": []
    },
    {
      "cell_type": "code",
      "source": [
        "for i in range(len(users)):\n",
        "  name = users[i]\n",
        "  if ' ' in name:\n",
        "    pass\n",
        "  df_img = load_df(name)\n",
        "  if type(df_img) != type(base): \n",
        "    pass\n",
        "\n",
        "  else:\n",
        "\n",
        "    smile, rew, aff, dom, smile_type = check_pattern_w(df_img, df_rew_w, df_aff_w, df_dom_w)\n",
        "\n",
        "    base['smile_w'][index_base] = smile\n",
        "    base['smile_rew_w'][index_base] = rew\n",
        "    base['smile_aff_w'][index_base] = aff\n",
        "    base['smile_dom_w'][index_base] = dom\n",
        "    base['smile_type_w'][index_base] = smile_type"
      ],
      "metadata": {
        "id": "0bXCBFYGj2k9"
      },
      "execution_count": null,
      "outputs": []
    },
    {
      "cell_type": "markdown",
      "source": [
        "add directory to save facial expression analysis"
      ],
      "metadata": {
        "id": "plQxnnDERjC_"
      }
    },
    {
      "cell_type": "code",
      "source": [
        "base.to_csv(xxx) # xxx = your directory"
      ],
      "metadata": {
        "id": "unvcsiJmngZX"
      },
      "execution_count": null,
      "outputs": []
    }
  ]
}